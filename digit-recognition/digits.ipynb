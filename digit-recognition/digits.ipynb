{
 "cells": [
  {
   "cell_type": "markdown",
   "metadata": {},
   "source": [
    "load the digit dataset from sklearn, split the dataset into 80% training and 20% testing"
   ]
  },
  {
   "cell_type": "code",
   "execution_count": 2,
   "metadata": {
    "collapsed": false
   },
   "outputs": [],
   "source": [
    "from sklearn.datasets import load_digits\n",
    "from sklearn.cross_validation import train_test_split\n",
    "digits = load_digits()\n",
    "x_train, x_test, y_train, y_test = train_test_split(digits['images'].reshape(1797,64), digits['target'], test_size = 0.2)"
   ]
  },
  {
   "cell_type": "markdown",
   "metadata": {},
   "source": [
    "#### Random Forest Classifier"
   ]
  },
  {
   "cell_type": "code",
   "execution_count": 3,
   "metadata": {
    "collapsed": false
   },
   "outputs": [
    {
     "name": "stdout",
     "output_type": "stream",
     "text": [
      "random forest accuracy:  0.933333333333\n"
     ]
    }
   ],
   "source": [
    "from sklearn.ensemble import RandomForestClassifier\n",
    "from sklearn.metrics import accuracy_score\n",
    "clf_rf = RandomForestClassifier()\n",
    "clf_rf.fit(x_train, y_train)\n",
    "y_pred_rf = clf_rf.predict(x_test)\n",
    "acc_rf = accuracy_score(y_test, y_pred_rf)\n",
    "print \"random forest accuracy: \", acc_rf"
   ]
  },
  {
   "cell_type": "markdown",
   "metadata": {},
   "source": [
    "#### Stochastic Gradient Descent"
   ]
  },
  {
   "cell_type": "code",
   "execution_count": 4,
   "metadata": {
    "collapsed": false
   },
   "outputs": [
    {
     "name": "stdout",
     "output_type": "stream",
     "text": [
      "stochastic gradient descent accuracy:  0.955555555556\n"
     ]
    }
   ],
   "source": [
    "from sklearn.linear_model import SGDClassifier\n",
    "clf_sgd = SGDClassifier()\n",
    "clf_sgd.fit(x_train, y_train)\n",
    "y_pred_sgd = clf_sgd.predict(x_test)\n",
    "acc_sgd = accuracy_score(y_test, y_pred_sgd)\n",
    "print \"stochastic gradient descent accuracy: \",acc_sgd"
   ]
  },
  {
   "cell_type": "markdown",
   "metadata": {},
   "source": [
    "#### Support Vector Machine"
   ]
  },
  {
   "cell_type": "code",
   "execution_count": 5,
   "metadata": {
    "collapsed": false
   },
   "outputs": [
    {
     "name": "stdout",
     "output_type": "stream",
     "text": [
      "Linear SVM accuracy:  0.958333333333\n"
     ]
    }
   ],
   "source": [
    "from sklearn.svm import LinearSVC\n",
    "clf_svm = LinearSVC()\n",
    "clf_svm.fit(x_train, y_train)\n",
    "y_pred_svm = clf_svm.predict(x_test)\n",
    "acc_svm = accuracy_score(y_test, y_pred_svm)\n",
    "print \"Linear SVM accuracy: \",acc_svm"
   ]
  },
  {
   "cell_type": "markdown",
   "metadata": {},
   "source": [
    "#### Nearest Neighbors"
   ]
  },
  {
   "cell_type": "code",
   "execution_count": 6,
   "metadata": {
    "collapsed": false
   },
   "outputs": [
    {
     "name": "stdout",
     "output_type": "stream",
     "text": [
      "nearest neighbors accuracy:  0.986111111111\n"
     ]
    }
   ],
   "source": [
    "from sklearn.neighbors import KNeighborsClassifier\n",
    "clf_knn = KNeighborsClassifier()\n",
    "clf_knn.fit(x_train, y_train)\n",
    "y_pred_knn = clf_knn.predict(x_test)\n",
    "acc_knn = accuracy_score(y_test, y_pred_knn)\n",
    "print \"nearest neighbors accuracy: \",acc_knn"
   ]
  },
  {
   "cell_type": "markdown",
   "metadata": {},
   "source": [
    "#### Neural Network"
   ]
  },
  {
   "cell_type": "code",
   "execution_count": 7,
   "metadata": {
    "collapsed": false
   },
   "outputs": [
    {
     "name": "stderr",
     "output_type": "stream",
     "text": [
      "C:\\Users\\Yilin\\Anaconda2\\lib\\site-packages\\theano\\tensor\\signal\\downsample.py:5: UserWarning: downsample module has been moved to the pool module.\n",
      "  warnings.warn(\"downsample module has been moved to the pool module.\")\n"
     ]
    },
    {
     "name": "stdout",
     "output_type": "stream",
     "text": [
      "# Neural Network with 7510 learnable parameters\n",
      "\n",
      "## Layer information\n",
      "\n",
      "  #  name      size\n",
      "---  ------  ------\n",
      "  0  input       64\n",
      "  1  hidden     100\n",
      "  2  output      10\n",
      "\n",
      "  epoch    train loss    valid loss    train/val    valid acc  dur\n",
      "-------  ------------  ------------  -----------  -----------  -----\n",
      "      1       \u001b[36m5.13374\u001b[0m       \u001b[32m0.73817\u001b[0m      6.95473      0.76920  0.02s\n",
      "      2       \u001b[36m0.56213\u001b[0m       \u001b[32m0.30812\u001b[0m      1.82439      0.91496  0.02s\n",
      "      3       \u001b[36m0.26999\u001b[0m       \u001b[32m0.20163\u001b[0m      1.33902      0.94531  0.02s\n",
      "      4       \u001b[36m0.16738\u001b[0m       \u001b[32m0.15638\u001b[0m      1.07032      0.94881  0.01s\n",
      "      5       \u001b[36m0.11724\u001b[0m       \u001b[32m0.13462\u001b[0m      0.87087      0.95141  0.01s\n",
      "      6       \u001b[36m0.09036\u001b[0m       \u001b[32m0.12361\u001b[0m      0.73104      0.95662  0.03s\n",
      "      7       \u001b[36m0.07413\u001b[0m       \u001b[32m0.11485\u001b[0m      0.64545      0.96875  0.01s\n",
      "      8       \u001b[36m0.06198\u001b[0m       \u001b[32m0.10757\u001b[0m      0.57620      0.96875  0.02s\n",
      "      9       \u001b[36m0.05305\u001b[0m       \u001b[32m0.10315\u001b[0m      0.51430      0.96875  0.02s\n",
      "     10       \u001b[36m0.04622\u001b[0m       \u001b[32m0.10065\u001b[0m      0.45921      0.97135  0.01s\n"
     ]
    },
    {
     "data": {
      "text/plain": [
       "NeuralNet(X_tensor_type=None,\n",
       "     batch_iterator_test=<nolearn.lasagne.base.BatchIterator object at 0x0000000009B7ACF8>,\n",
       "     batch_iterator_train=<nolearn.lasagne.base.BatchIterator object at 0x0000000009B7ABA8>,\n",
       "     custom_scores=None, hidden_num_units=100, input_shape=(None, 64),\n",
       "     layers=[('input', <class 'lasagne.layers.input.InputLayer'>), ('hidden', <class 'lasagne.layers.dense.DenseLayer'>), ('output', <class 'lasagne.layers.dense.DenseLayer'>)],\n",
       "     loss=None, max_epochs=10, more_params={},\n",
       "     objective=<function objective at 0x0000000009B809E8>,\n",
       "     objective_loss_function=<function categorical_crossentropy at 0x0000000008BA8CF8>,\n",
       "     on_batch_finished=[],\n",
       "     on_epoch_finished=[<nolearn.lasagne.handlers.PrintLog instance at 0x0000000009B890C8>],\n",
       "     on_training_finished=[],\n",
       "     on_training_started=[<nolearn.lasagne.handlers.PrintLayerInfo instance at 0x0000000009B89708>],\n",
       "     output_nonlinearity=<function softmax at 0x0000000008927F28>,\n",
       "     output_num_units=10, regression=False,\n",
       "     train_split=<nolearn.lasagne.base.TrainSplit object at 0x0000000009B7AD68>,\n",
       "     update=<function nesterov_momentum at 0x0000000008BA65F8>,\n",
       "     update_learning_rate=0.01, update_momentum=0.9,\n",
       "     use_label_encoder=False, verbose=1,\n",
       "     y_tensor_type=TensorType(int32, vector))"
      ]
     },
     "execution_count": 7,
     "metadata": {},
     "output_type": "execute_result"
    }
   ],
   "source": [
    "from nolearn.lasagne import NeuralNet\n",
    "from lasagne import layers\n",
    "from lasagne import nonlinearities\n",
    "from lasagne.updates import nesterov_momentum\n",
    "clf_nn = NeuralNet(\n",
    "    layers=[  # three layers: one hidden layer\n",
    "        ('input', layers.InputLayer),\n",
    "        ('hidden', layers.DenseLayer),\n",
    "        ('output', layers.DenseLayer),\n",
    "        ],\n",
    "    # layer parameters:\n",
    "    input_shape=(None, 64),  # 784 input pixels per batch\n",
    "    hidden_num_units=100,  # number of units in hidden layer\n",
    "    output_nonlinearity=nonlinearities.softmax,  # output layer uses identity function\n",
    "    output_num_units=10,  # 10 target values\n",
    "\n",
    "    # optimization method:\n",
    "    update=nesterov_momentum,\n",
    "    update_learning_rate=0.01,\n",
    "    update_momentum=0.9,\n",
    "    \n",
    "    max_epochs=10,  # we want to train this many epochs\n",
    "    verbose=1,\n",
    "    )\n",
    "clf_nn.fit(x_train, y_train)"
   ]
  }
 ],
 "metadata": {
  "kernelspec": {
   "display_name": "Python 2",
   "language": "python",
   "name": "python2"
  },
  "language_info": {
   "codemirror_mode": {
    "name": "ipython",
    "version": 2
   },
   "file_extension": ".py",
   "mimetype": "text/x-python",
   "name": "python",
   "nbconvert_exporter": "python",
   "pygments_lexer": "ipython2",
   "version": "2.7.11"
  }
 },
 "nbformat": 4,
 "nbformat_minor": 0
}
