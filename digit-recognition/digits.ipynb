{
 "cells": [
  {
   "cell_type": "markdown",
   "metadata": {},
   "source": [
    "load the digit dataset from sklearn, split the dataset into 80% training and 20% testing"
   ]
  },
  {
   "cell_type": "code",
   "execution_count": 1,
   "metadata": {
    "collapsed": false
   },
   "outputs": [],
   "source": [
    "from sklearn.datasets import load_digits\n",
    "from sklearn.cross_validation import train_test_split\n",
    "digits = load_digits()\n",
    "x_train, x_test, y_train, y_test = train_test_split(digits['images'].reshape(1797,64), digits['target'], test_size = 0.2)"
   ]
  },
  {
   "cell_type": "markdown",
   "metadata": {},
   "source": [
    "#### Random Forest Classifier"
   ]
  },
  {
   "cell_type": "code",
   "execution_count": 2,
   "metadata": {
    "collapsed": false
   },
   "outputs": [
    {
     "name": "stdout",
     "output_type": "stream",
     "text": [
      "random forest accuracy:  0.944444444444\n"
     ]
    }
   ],
   "source": [
    "from sklearn.ensemble import RandomForestClassifier\n",
    "from sklearn.metrics import accuracy_score\n",
    "clf_rf = RandomForestClassifier()\n",
    "clf_rf.fit(x_train, y_train)\n",
    "y_pred_rf = clf_rf.predict(x_test)\n",
    "acc_rf = accuracy_score(y_test, y_pred_rf)\n",
    "print \"random forest accuracy: \", acc_rf"
   ]
  },
  {
   "cell_type": "markdown",
   "metadata": {},
   "source": [
    "#### Stochastic Gradient Descent"
   ]
  },
  {
   "cell_type": "code",
   "execution_count": 3,
   "metadata": {
    "collapsed": false
   },
   "outputs": [
    {
     "name": "stdout",
     "output_type": "stream",
     "text": [
      "stochastic gradient descent accuracy:  0.925\n"
     ]
    }
   ],
   "source": [
    "from sklearn.linear_model import SGDClassifier\n",
    "clf_sgd = SGDClassifier()\n",
    "clf_sgd.fit(x_train, y_train)\n",
    "y_pred_sgd = clf_sgd.predict(x_test)\n",
    "acc_sgd = accuracy_score(y_test, y_pred_sgd)\n",
    "print \"stochastic gradient descent accuracy: \",acc_sgd"
   ]
  },
  {
   "cell_type": "markdown",
   "metadata": {},
   "source": [
    "#### Support Vector Machine"
   ]
  },
  {
   "cell_type": "code",
   "execution_count": 4,
   "metadata": {
    "collapsed": false
   },
   "outputs": [
    {
     "name": "stdout",
     "output_type": "stream",
     "text": [
      "Linear SVM accuracy:  0.966666666667\n"
     ]
    }
   ],
   "source": [
    "from sklearn.svm import LinearSVC\n",
    "clf_svm = LinearSVC()\n",
    "clf_svm.fit(x_train, y_train)\n",
    "y_pred_svm = clf_svm.predict(x_test)\n",
    "acc_svm = accuracy_score(y_test, y_pred_svm)\n",
    "print \"Linear SVM accuracy: \",acc_svm"
   ]
  },
  {
   "cell_type": "markdown",
   "metadata": {},
   "source": [
    "#### Nearest Neighbors"
   ]
  },
  {
   "cell_type": "code",
   "execution_count": 5,
   "metadata": {
    "collapsed": false
   },
   "outputs": [
    {
     "name": "stdout",
     "output_type": "stream",
     "text": [
      "nearest neighbors accuracy:  0.991666666667\n"
     ]
    }
   ],
   "source": [
    "from sklearn.neighbors import KNeighborsClassifier\n",
    "clf_knn = KNeighborsClassifier()\n",
    "clf_knn.fit(x_train, y_train)\n",
    "y_pred_knn = clf_knn.predict(x_test)\n",
    "acc_knn = accuracy_score(y_test, y_pred_knn)\n",
    "print \"nearest neighbors accuracy: \",acc_knn"
   ]
  },
  {
   "cell_type": "markdown",
   "metadata": {},
   "source": [
    "#### Neural Network"
   ]
  },
  {
   "cell_type": "code",
   "execution_count": 9,
   "metadata": {
    "collapsed": false
   },
   "outputs": [
    {
     "name": "stdout",
     "output_type": "stream",
     "text": [
      "# Neural Network with 7510 learnable parameters\n",
      "\n",
      "## Layer information\n",
      "\n",
      "  #  name      size\n",
      "---  ------  ------\n",
      "  0  input       64\n",
      "  1  hidden     100\n",
      "  2  output      10\n",
      "\n",
      "  epoch    train loss    valid loss    train/val    valid acc  dur\n",
      "-------  ------------  ------------  -----------  -----------  -----\n",
      "      1       \u001b[36m3.77357\u001b[0m       \u001b[32m0.62097\u001b[0m      6.07689      0.80833  0.01s\n",
      "      2       \u001b[36m0.41859\u001b[0m       \u001b[32m0.26239\u001b[0m      1.59532      0.93318  0.02s\n",
      "      3       \u001b[36m0.21261\u001b[0m       \u001b[32m0.19242\u001b[0m      1.10494      0.94189  0.02s\n",
      "      4       \u001b[36m0.13377\u001b[0m       \u001b[32m0.16016\u001b[0m      0.83526      0.94018  0.01s\n",
      "      5       \u001b[36m0.09719\u001b[0m       \u001b[32m0.13887\u001b[0m      0.69989      0.95231  0.01s\n",
      "      6       \u001b[36m0.07314\u001b[0m       \u001b[32m0.12821\u001b[0m      0.57049      0.95491  0.02s\n",
      "      7       \u001b[36m0.05725\u001b[0m       \u001b[32m0.11686\u001b[0m      0.48992      0.96704  0.01s\n",
      "      8       \u001b[36m0.04703\u001b[0m       \u001b[32m0.11069\u001b[0m      0.42487      0.96704  0.02s\n",
      "      9       \u001b[36m0.03953\u001b[0m       \u001b[32m0.10504\u001b[0m      0.37633      0.96704  0.02s\n",
      "     10       \u001b[36m0.03417\u001b[0m       \u001b[32m0.10212\u001b[0m      0.33457      0.96704  0.02s\n",
      "neural network accuracy:  0.975\n"
     ]
    }
   ],
   "source": [
    "from nolearn.lasagne import NeuralNet\n",
    "from lasagne import layers\n",
    "from lasagne import nonlinearities\n",
    "from lasagne.updates import nesterov_momentum\n",
    "clf_nn = NeuralNet(\n",
    "    layers=[  # three layers: one hidden layer\n",
    "        ('input', layers.InputLayer),\n",
    "        ('hidden', layers.DenseLayer),\n",
    "        ('output', layers.DenseLayer),\n",
    "        ],\n",
    "    # layer parameters:\n",
    "    input_shape=(None, 64),  # 784 input pixels per batch\n",
    "    hidden_num_units=100,  # number of units in hidden layer\n",
    "    output_nonlinearity=nonlinearities.softmax,  # output layer uses identity function\n",
    "    output_num_units=10,  # 10 target values\n",
    "\n",
    "    # optimization method:\n",
    "    update=nesterov_momentum,\n",
    "    update_learning_rate=0.01,\n",
    "    update_momentum=0.9,\n",
    "    \n",
    "    max_epochs=10,  # we want to train this many epochs\n",
    "    verbose=1,\n",
    "    )\n",
    "clf_nn.fit(x_train, y_train)\n",
    "y_pred_nn = clf_nn.predict(x_test)\n",
    "acc_nn = accuracy_score(y_test, y_pred_nn)\n",
    "print \"neural network accuracy: \", acc_nn"
   ]
  }
 ],
 "metadata": {
  "kernelspec": {
   "display_name": "Python 2",
   "language": "python",
   "name": "python2"
  },
  "language_info": {
   "codemirror_mode": {
    "name": "ipython",
    "version": 2
   },
   "file_extension": ".py",
   "mimetype": "text/x-python",
   "name": "python",
   "nbconvert_exporter": "python",
   "pygments_lexer": "ipython2",
   "version": "2.7.11"
  }
 },
 "nbformat": 4,
 "nbformat_minor": 0
}
