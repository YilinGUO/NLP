{
 "cells": [
  {
   "cell_type": "markdown",
   "metadata": {},
   "source": [
    "Import the iris data"
   ]
  },
  {
   "cell_type": "code",
   "execution_count": 250,
   "metadata": {
    "collapsed": false
   },
   "outputs": [],
   "source": [
    "import urllib2\n",
    "import numpy as np\n",
    "targetURL = 'https://archive.ics.uci.edu/ml/machine-learning-databases/iris/iris.data'\n",
    "data = urllib2.urlopen(targetURL)\n",
    "x1 = []\n",
    "x2 = []\n",
    "x3 = []\n",
    "for line in data:\n",
    "    if line.strip():\n",
    "        line = line.split(',')\n",
    "        if line[4] == 'Iris-setosa\\n':\n",
    "            line = line[0:4]\n",
    "            line = [float(i) for i in line]\n",
    "            line.append(-1)\n",
    "            x1.append(line)\n",
    "        elif line[4] == 'Iris-versicolor\\n':\n",
    "            line = line[0:4]\n",
    "            line = [float(i) for i in line]\n",
    "            line.append(1)\n",
    "            x2.append(line)\n",
    "        else:\n",
    "            line = line[0:4]\n",
    "            line = [float(i) for i in line]\n",
    "            line.append(0)\n",
    "            x3.append(line)"
   ]
  },
  {
   "cell_type": "markdown",
   "metadata": {},
   "source": [
    "split the data into training and testing sets"
   ]
  },
  {
   "cell_type": "code",
   "execution_count": 251,
   "metadata": {
    "collapsed": false
   },
   "outputs": [],
   "source": [
    "import pandas as pd\n",
    "from sklearn.cross_validation import train_test_split\n",
    "X = np.concatenate((x1, x2))\n",
    "x_train, x_test = train_test_split(X, test_size = 0.2)"
   ]
  },
  {
   "cell_type": "markdown",
   "metadata": {},
   "source": [
    "define the class perceptron"
   ]
  },
  {
   "cell_type": "code",
   "execution_count": 252,
   "metadata": {
    "collapsed": true
   },
   "outputs": [],
   "source": [
    "import random as rd\n",
    "class Perceptron(object):\n",
    "    \"\"\"docstring for Perceptron\"\"\"\n",
    "    def __init__(self):\n",
    "        super(Perceptron, self).__init__()\n",
    "        self.w = [rd.random() * 2 - 1 for _ in xrange(2)] # weights\n",
    "        self.learningRate = 0.1\n",
    "        self.bias = 0\n",
    "\n",
    "    def response(self, x):\n",
    "        \"\"\"perceptron output\"\"\"\n",
    "        y = x[0] * self.w[0] + x[1] * self.w[1] + self.bias\n",
    "        if y >= 0:\n",
    "            return 1\n",
    "        else:\n",
    "            return -1\n",
    "    \n",
    "    def updateWeights(self, x):\n",
    "        \"\"\"\n",
    "        upates the weights and the bias\n",
    "        \"\"\"\n",
    "        self.w[0] += self.learningRate * x[0] * x[2]\n",
    "        self.w[1] += self.learningRate * x[1] * x[2]\n",
    "        self.bias += self.learningRate * x[2]\n",
    "\n",
    "    def train(self, data):\n",
    "        \"\"\"\n",
    "        trains all the vector in data.\n",
    "        Every vector in data must three elements.\n",
    "        the third element(x[2]) must be the label(desired output)\n",
    "        \"\"\"\n",
    "        learned = False\n",
    "        iteration = 0\n",
    "        while not learned:\n",
    "            globalError = 0.0\n",
    "            for x in data: # for each sample\n",
    "                r = self.response(x)\n",
    "                if x[2] != r: # if have a wrong response\n",
    "                    self.updateWeights(x)\n",
    "            iteration += 1\n",
    "            if iteration >= 1000: # stop criteria\n",
    "                learned = True # stop learing\n",
    "    \n",
    "    def decision_boundary(self, x):\n",
    "        return (-self.bias - x * self.w[0]) / self.w[1]"
   ]
  },
  {
   "cell_type": "markdown",
   "metadata": {},
   "source": [
    "use perceptron to predict"
   ]
  },
  {
   "cell_type": "code",
   "execution_count": 253,
   "metadata": {
    "collapsed": false
   },
   "outputs": [
    {
     "name": "stdout",
     "output_type": "stream",
     "text": [
      "Accuracy for this model:  95%\n"
     ]
    }
   ],
   "source": [
    "import matplotlib.pyplot as plt\n",
    "p = Perceptron()\n",
    "p.train(x_train[:, (0,1,4)])\n",
    "\n",
    "fig, ax = plt.subplots()\n",
    "\n",
    "x_train = np.array(x_train)\n",
    "x_test = np.array(x_test)\n",
    "\n",
    "R = x_train[x_train[:, 4] == -1]\n",
    "B = x_train[x_train[:, 4] == 1]\n",
    "\n",
    "ax.scatter(R[:,0],R[:,1],marker='o', facecolor = 'red', label = \"Training Outcome 1\")\n",
    "ax.scatter(B[:,0],B[:,1],marker='o', facecolor = 'blue', label = \"Training Outcome -1\")\n",
    "ax.plot(x_train[:, 0], p.decision_boundary(x_train[:, 0]), label='Predicted Decision Boundary')\n",
    "\n",
    "R2 = x_test[x_test[:, 4] == -1]\n",
    "B2 = x_test[x_test[:, 4] == 1]\n",
    "\n",
    "ax.scatter(R2[:,0],R2[:,1], marker='D', facecolor = 'red', label = \"Testing Outcome 1\")\n",
    "ax.scatter(B2[:,0],B2[:,1], marker='D', facecolor = 'blue', label = \"Testing Outcome -1\")\n",
    "\n",
    "ax.legend(loc=\"upper left\", prop={'size':8})\n",
    "response = []\n",
    "for x in x_test[:, (0,1,4)]:\n",
    "    response.append(p.response(x))\n",
    "result = list((response == x_test[:,4]))\n",
    "accuracy = result.count(True) / float(len(result))\n",
    "print \"Accuracy for this model: \",'{0:.0%}'.format(accuracy)\n",
    "plt.show()"
   ]
  }
 ],
 "metadata": {
  "kernelspec": {
   "display_name": "Python 2",
   "language": "python",
   "name": "python2"
  },
  "language_info": {
   "codemirror_mode": {
    "name": "ipython",
    "version": 2
   },
   "file_extension": ".py",
   "mimetype": "text/x-python",
   "name": "python",
   "nbconvert_exporter": "python",
   "pygments_lexer": "ipython2",
   "version": "2.7.11"
  }
 },
 "nbformat": 4,
 "nbformat_minor": 0
}
