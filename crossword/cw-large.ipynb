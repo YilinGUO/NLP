{
 "cells": [
  {
   "cell_type": "markdown",
   "metadata": {},
   "source": [
    "load the digit dataset from sklearn, split the dataset into 80% training and 20% testing"
   ]
  },
  {
   "cell_type": "code",
   "execution_count": 1,
   "metadata": {
    "collapsed": false
   },
   "outputs": [
    {
     "name": "stderr",
     "output_type": "stream",
     "text": [
      "C:\\Users\\Yilin\\Anaconda2\\lib\\site-packages\\theano\\tensor\\signal\\downsample.py:5: UserWarning: downsample module has been moved to the pool module.\n",
      "  warnings.warn(\"downsample module has been moved to the pool module.\")\n"
     ]
    }
   ],
   "source": [
    "from nolearn.lasagne import NeuralNet\n",
    "from lasagne import layers\n",
    "from lasagne import nonlinearities\n",
    "from lasagne.updates import nesterov_momentum\n",
    "from sklearn.cross_validation import train_test_split\n",
    "from sklearn.metrics import accuracy_score\n",
    "from sklearn.feature_extraction.text import CountVectorizer\n",
    "import numpy as np\n",
    "\n",
    "SEARCH_CLUES_PATH = \"./cw-large/\"\n",
    "#SEARCH_CLUES_PATH = \"/data0/corpora/crossword_corpus/\"\n",
    "\n",
    "def process_filename(line):\n",
    "\tif line.strip() != \"\":\n",
    "\t\tline = line.rstrip('\\n')\n",
    "\t\t#file_id, filename = line.split('\\t')\n",
    "\t\t#file_id = int(file_id)\n",
    "\t\t#return file_id, filename\n",
    "        return line\n",
    "\n",
    "def process_txt(line):\n",
    "\tif line.strip() != \"\":\n",
    "\t\tline = line.rstrip('\\n')\n",
    "\t\tclues, url = line.split('\\t')\n",
    "\t\t# clues = clues.split(' ')\n",
    "\t\treturn clues\n",
    "\n",
    "def process_input():\n",
    "\tsentences = []\n",
    "\toutput = []\n",
    "\tcount = 0\n",
    "\tfor line in open(SEARCH_CLUES_PATH + 'random1000.list', 'r').readlines():\n",
    "\t\tfilename = process_filename(line)\n",
    "\t\tfor line2 in open(SEARCH_CLUES_PATH + filename, 'r').readlines():\n",
    "\t\t\tsentences.append(process_txt(line2))\n",
    "\t\t\t#output.append(filename)\n",
    "\t\t\toutput.append(count)\n",
    "\t\tcount = count + 1\n",
    "\tvectorizer = CountVectorizer(min_df=1, encoding='latin_1')\n",
    "\tinput = vectorizer.fit_transform(sentences).toarray()\n",
    "\toutput = np.array(output)\n",
    "\treturn input, output\n",
    "\n",
    "def split_data(input, output):\n",
    "\tx_train, x_test, y_train, y_test = train_test_split(input, output, test_size = 0.2)\n",
    "\treturn x_train, x_test, y_train, y_test\n",
    "\n",
    "x, y = process_input()\n",
    "x_train, x_test, y_train, y_test = split_data(x, y)"
   ]
  },
  {
   "cell_type": "markdown",
   "metadata": {},
   "source": [
    "### Timer"
   ]
  },
  {
   "cell_type": "code",
   "execution_count": 2,
   "metadata": {
    "collapsed": true
   },
   "outputs": [],
   "source": [
    "import time\n",
    "from functools import wraps\n",
    " \n",
    "def fn_timer(function):\n",
    "\t@wraps(function)\n",
    "\tdef function_timer(*args, **kwargs):\n",
    "\t\tt0 = time.time()\n",
    "\t\tresult = function(*args, **kwargs)\n",
    "\t\tt1 = time.time()\n",
    "\t\tprint (\"Total time running %s: %s seconds\" %\n",
    "\t\t\t   (function.func_name, str(t1-t0))\n",
    "\t\t\t   )\n",
    "\t\treturn result\n",
    "\treturn function_timer"
   ]
  },
  {
   "cell_type": "markdown",
   "metadata": {},
   "source": [
    "#### Random Forest Classifier"
   ]
  },
  {
   "cell_type": "code",
   "execution_count": 3,
   "metadata": {
    "collapsed": false
   },
   "outputs": [
    {
     "name": "stdout",
     "output_type": "stream",
     "text": [
      "random forest accuracy:  0.534373476353\n"
     ]
    }
   ],
   "source": [
    "from sklearn.ensemble import RandomForestClassifier\n",
    "from sklearn.metrics import accuracy_score\n",
    "clf_rf = RandomForestClassifier()\n",
    "clf_rf.fit(x_train, y_train)\n",
    "y_pred_rf = clf_rf.predict(x_test)\n",
    "acc_rf = accuracy_score(y_test, y_pred_rf)\n",
    "print \"random forest accuracy: \", acc_rf"
   ]
  },
  {
   "cell_type": "markdown",
   "metadata": {},
   "source": [
    "#### Stochastic Gradient Descent"
   ]
  },
  {
   "cell_type": "code",
   "execution_count": 4,
   "metadata": {
    "collapsed": false
   },
   "outputs": [
    {
     "name": "stdout",
     "output_type": "stream",
     "text": [
      "stochastic gradient descent accuracy:  0.618722574354\n"
     ]
    }
   ],
   "source": [
    "from sklearn.linear_model import SGDClassifier\n",
    "clf_sgd = SGDClassifier()\n",
    "clf_sgd.fit(x_train, y_train)\n",
    "y_pred_sgd = clf_sgd.predict(x_test)\n",
    "acc_sgd = accuracy_score(y_test, y_pred_sgd)\n",
    "print \"stochastic gradient descent accuracy: \",acc_sgd"
   ]
  },
  {
   "cell_type": "markdown",
   "metadata": {},
   "source": [
    "#### Support Vector Machine"
   ]
  },
  {
   "cell_type": "code",
   "execution_count": 5,
   "metadata": {
    "collapsed": false
   },
   "outputs": [
    {
     "name": "stdout",
     "output_type": "stream",
     "text": [
      "Linear SVM accuracy:  0.658703071672\n"
     ]
    }
   ],
   "source": [
    "from sklearn.svm import LinearSVC\n",
    "clf_svm = LinearSVC()\n",
    "clf_svm.fit(x_train, y_train)\n",
    "y_pred_svm = clf_svm.predict(x_test)\n",
    "acc_svm = accuracy_score(y_test, y_pred_svm)\n",
    "print \"Linear SVM accuracy: \",acc_svm"
   ]
  },
  {
   "cell_type": "markdown",
   "metadata": {},
   "source": [
    "#### Nearest Neighbors"
   ]
  },
  {
   "cell_type": "code",
   "execution_count": 6,
   "metadata": {
    "collapsed": false
   },
   "outputs": [
    {
     "name": "stdout",
     "output_type": "stream",
     "text": [
      "nearest neighbors accuracy:  0.420770355924\n"
     ]
    }
   ],
   "source": [
    "from sklearn.neighbors import KNeighborsClassifier\n",
    "clf_knn = KNeighborsClassifier()\n",
    "clf_knn.fit(x_train, y_train)\n",
    "y_pred_knn = clf_knn.predict(x_test)\n",
    "acc_knn = accuracy_score(y_test, y_pred_knn)\n",
    "print \"nearest neighbors accuracy: \",acc_knn"
   ]
  },
  {
   "cell_type": "markdown",
   "metadata": {},
   "source": [
    "#### Neural Network"
   ]
  },
  {
   "cell_type": "code",
   "execution_count": 8,
   "metadata": {
    "collapsed": false
   },
   "outputs": [
    {
     "name": "stdout",
     "output_type": "stream",
     "text": [
      "# Neural Network with 187751000 learnable parameters\n",
      "\n",
      "## Layer information\n",
      "\n",
      "  #  name       size\n",
      "---  -------  ------\n",
      "  0  input      7773\n",
      "  1  hidden1   10000\n",
      "  2  hidden2   10000\n",
      "  3  output     1000\n",
      "\n",
      "  epoch    train loss    valid loss    train/val    valid acc  dur\n",
      "-------  ------------  ------------  -----------  -----------  -------\n",
      "      1       \u001b[36m6.85284\u001b[0m       \u001b[32m6.81208\u001b[0m      1.00598      0.04366  334.91s\n",
      "      2       \u001b[36m6.61464\u001b[0m       \u001b[32m6.56107\u001b[0m      1.00817      0.04366  303.86s\n",
      "      3       \u001b[36m6.09759\u001b[0m       \u001b[32m6.27026\u001b[0m      0.97246      0.04871  272.84s\n",
      "      4       \u001b[36m5.66809\u001b[0m       \u001b[32m6.14618\u001b[0m      0.92221      0.04412  274.12s\n",
      "      5       \u001b[36m5.42365\u001b[0m       \u001b[32m6.12558\u001b[0m      0.88541      0.05101  272.57s\n",
      "      6       \u001b[36m5.29877\u001b[0m       6.13488      0.86371      0.05882  278.87s\n",
      "      7       \u001b[36m5.22113\u001b[0m       6.14057      0.85027      0.06756  275.15s\n",
      "      8       \u001b[36m5.15661\u001b[0m       6.14396      0.83930      0.06847  277.55s\n",
      "      9       \u001b[36m5.09674\u001b[0m       6.14407      0.82954      0.07031  276.64s\n",
      "     10       \u001b[36m5.03791\u001b[0m       6.14031      0.82046      0.07169  276.46s\n",
      "     11       \u001b[36m4.97841\u001b[0m       6.13226      0.81184      0.07537  277.65s\n",
      "     12       \u001b[36m4.91737\u001b[0m       \u001b[32m6.12000\u001b[0m      0.80349      0.07812  279.19s\n",
      "     13       \u001b[36m4.85428\u001b[0m       \u001b[32m6.10365\u001b[0m      0.79531      0.08594  280.53s\n",
      "     14       \u001b[36m4.78883\u001b[0m       \u001b[32m6.08348\u001b[0m      0.78719      0.09467  277.48s\n",
      "     15       \u001b[36m4.72091\u001b[0m       \u001b[32m6.05996\u001b[0m      0.77903      0.10478  281.20s\n",
      "     16       \u001b[36m4.65037\u001b[0m       \u001b[32m6.03340\u001b[0m      0.77077      0.11351  279.08s\n",
      "     17       \u001b[36m4.57721\u001b[0m       \u001b[32m6.00403\u001b[0m      0.76236      0.12086  278.33s\n",
      "     18       \u001b[36m4.50158\u001b[0m       \u001b[32m5.97228\u001b[0m      0.75375      0.12638  278.62s\n",
      "     19       \u001b[36m4.42391\u001b[0m       \u001b[32m5.93883\u001b[0m      0.74491      0.12960  279.64s\n",
      "     20       \u001b[36m4.34483\u001b[0m       \u001b[32m5.90426\u001b[0m      0.73588      0.13649  276.10s\n",
      "     21       \u001b[36m4.26505\u001b[0m       \u001b[32m5.86925\u001b[0m      0.72668      0.14200  278.09s\n",
      "     22       \u001b[36m4.18509\u001b[0m       \u001b[32m5.83421\u001b[0m      0.71734      0.15028  277.35s\n",
      "     23       \u001b[36m4.10533\u001b[0m       \u001b[32m5.79951\u001b[0m      0.70788      0.16131  278.29s\n",
      "     24       \u001b[36m4.02594\u001b[0m       \u001b[32m5.76513\u001b[0m      0.69833      0.17555  277.59s\n",
      "     25       \u001b[36m3.94696\u001b[0m       \u001b[32m5.73114\u001b[0m      0.68869      0.18520  281.43s\n",
      "     26       \u001b[36m3.86842\u001b[0m       \u001b[32m5.69734\u001b[0m      0.67899      0.19899  277.53s\n",
      "     27       \u001b[36m3.79035\u001b[0m       \u001b[32m5.66379\u001b[0m      0.66923      0.20818  279.54s\n",
      "     28       \u001b[36m3.71280\u001b[0m       \u001b[32m5.63046\u001b[0m      0.65941      0.21783  276.94s\n",
      "     29       \u001b[36m3.63585\u001b[0m       \u001b[32m5.59744\u001b[0m      0.64956      0.22748  278.18s\n",
      "     30       \u001b[36m3.55964\u001b[0m       \u001b[32m5.56479\u001b[0m      0.63967      0.23392  276.78s\n",
      "     31       \u001b[36m3.48438\u001b[0m       \u001b[32m5.53260\u001b[0m      0.62979      0.23759  280.14s\n",
      "     32       \u001b[36m3.41022\u001b[0m       \u001b[32m5.50100\u001b[0m      0.61993      0.24724  281.30s\n",
      "     33       \u001b[36m3.33730\u001b[0m       \u001b[32m5.46994\u001b[0m      0.61012      0.25322  277.10s\n",
      "     34       \u001b[36m3.26570\u001b[0m       \u001b[32m5.43954\u001b[0m      0.60036      0.26333  279.26s\n",
      "     35       \u001b[36m3.19546\u001b[0m       \u001b[32m5.40984\u001b[0m      0.59068      0.27022  277.46s\n",
      "     36       \u001b[36m3.12661\u001b[0m       \u001b[32m5.38075\u001b[0m      0.58107      0.27757  276.27s\n",
      "     37       \u001b[36m3.05912\u001b[0m       \u001b[32m5.35242\u001b[0m      0.57154      0.28263  277.22s\n",
      "     38       \u001b[36m2.99300\u001b[0m       \u001b[32m5.32496\u001b[0m      0.56207      0.29044  280.99s\n",
      "     39       \u001b[36m2.92826\u001b[0m       \u001b[32m5.29833\u001b[0m      0.55268      0.29458  277.88s\n",
      "     40       \u001b[36m2.86486\u001b[0m       \u001b[32m5.27259\u001b[0m      0.54335      0.30147  289.41s\n",
      "     41       \u001b[36m2.80280\u001b[0m       \u001b[32m5.24781\u001b[0m      0.53409      0.30561  291.61s\n",
      "     42       \u001b[36m2.74205\u001b[0m       \u001b[32m5.22400\u001b[0m      0.52489      0.31204  279.26s\n",
      "     43       \u001b[36m2.68258\u001b[0m       \u001b[32m5.20118\u001b[0m      0.51577      0.31618  275.34s\n",
      "     44       \u001b[36m2.62439\u001b[0m       \u001b[32m5.17938\u001b[0m      0.50670      0.32169  279.05s\n",
      "     45       \u001b[36m2.56746\u001b[0m       \u001b[32m5.15859\u001b[0m      0.49771      0.32675  280.09s\n",
      "     46       \u001b[36m2.51175\u001b[0m       \u001b[32m5.13876\u001b[0m      0.48878      0.33180  275.44s\n",
      "     47       \u001b[36m2.45724\u001b[0m       \u001b[32m5.11991\u001b[0m      0.47994      0.33318  277.09s\n",
      "     48       \u001b[36m2.40393\u001b[0m       \u001b[32m5.10205\u001b[0m      0.47117      0.33915  276.69s\n",
      "     49       \u001b[36m2.35178\u001b[0m       \u001b[32m5.08514\u001b[0m      0.46248      0.34237  275.47s\n",
      "     50       \u001b[36m2.30078\u001b[0m       \u001b[32m5.06915\u001b[0m      0.45388      0.34743  276.27s\n",
      "Total time running train: 14009.3860002 seconds\n",
      "neural network accuracy:  0.428083861531\n"
     ]
    }
   ],
   "source": [
    "@fn_timer\n",
    "def train(x_train, y_train):\n",
    "\tclf_nn = NeuralNet(\n",
    "\t    layers=[  # three layers: one hidden layer\n",
    "\t        ('input', layers.InputLayer),\n",
    "\t        ('hidden1', layers.DenseLayer),\n",
    "\t        ('hidden2', layers.DenseLayer),\n",
    "\t        ('output', layers.DenseLayer),\n",
    "\t        ],\n",
    "\t    # layer parameters:\n",
    "\t    input_shape=(None, 7773),  # 784 input pixels per batch\n",
    "\t    hidden1_num_units=10000,  # number of units in hidden layer\n",
    "\t    hidden2_num_units=10000,\n",
    "\t    output_nonlinearity=nonlinearities.softmax,  # output layer uses identity function\n",
    "\t    output_num_units=1000,  # 10 target values\n",
    "\n",
    "\t    # optimization method:\n",
    "\t    update=nesterov_momentum,\n",
    "\t    update_learning_rate=0.01,\n",
    "\t    update_momentum=0.9,\n",
    "\t    \n",
    "\t    max_epochs=50,  # we want to train this many epochs\n",
    "\t    verbose=1,\n",
    "\t    )\n",
    "\tclf_nn.fit(x_train, y_train)\n",
    "\treturn clf_nn\n",
    "\n",
    "def test(clf_nn, x_test):\n",
    "\treturn clf_nn.predict(x_test)\n",
    "\n",
    "x, y = process_input()\n",
    "x_train, x_test, y_train, y_test = split_data(x, y)\n",
    "clf_nn = train(x_train, y_train)\n",
    "y_pred_nn = test(clf_nn, x_test)\n",
    "acc_nn = accuracy_score(y_test, y_pred_nn)\n",
    "print \"neural network accuracy: \", acc_nn"
   ]
  }
 ],
 "metadata": {
  "kernelspec": {
   "display_name": "Python 2",
   "language": "python",
   "name": "python2"
  },
  "language_info": {
   "codemirror_mode": {
    "name": "ipython",
    "version": 2
   },
   "file_extension": ".py",
   "mimetype": "text/x-python",
   "name": "python",
   "nbconvert_exporter": "python",
   "pygments_lexer": "ipython2",
   "version": "2.7.11"
  }
 },
 "nbformat": 4,
 "nbformat_minor": 0
}
