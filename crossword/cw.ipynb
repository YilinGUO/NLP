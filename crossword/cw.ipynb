{
 "cells": [
  {
   "cell_type": "markdown",
   "metadata": {},
   "source": [
    "load the digit dataset from sklearn, split the dataset into 80% training and 20% testing"
   ]
  },
  {
   "cell_type": "code",
   "execution_count": 14,
   "metadata": {
    "collapsed": false
   },
   "outputs": [],
   "source": [
    "from nolearn.lasagne import NeuralNet\n",
    "from lasagne import layers\n",
    "from lasagne import nonlinearities\n",
    "from lasagne.updates import nesterov_momentum\n",
    "from sklearn.cross_validation import train_test_split\n",
    "from sklearn.metrics import accuracy_score\n",
    "from sklearn.feature_extraction.text import CountVectorizer\n",
    "import numpy as np\n",
    "\n",
    "SEARCH_CLUES_PATH = \"./cw/\"\n",
    "\n",
    "def process_filename(line):\n",
    "\tif line.strip() != \"\":\n",
    "\t\tline = line.rstrip('\\n')\n",
    "\t\tfile_id, filename = line.split('\\t')\n",
    "\t\tfile_id = int(file_id)\n",
    "\t\treturn file_id, filename\n",
    "\n",
    "def process_txt(line):\n",
    "\tif line.strip() != \"\":\n",
    "\t\tline = line.rstrip('\\n')\n",
    "\t\tclues, url = line.split('\\t')\n",
    "\t\t# clues = clues.split(' ')\n",
    "\t\treturn clues\n",
    "\n",
    "def process_input():\n",
    "\tsentences = []\n",
    "\toutput = []\n",
    "\tfor line in open(SEARCH_CLUES_PATH + 'list', 'r').readlines():\n",
    "\t\tfile_id, filename = process_filename(line)\n",
    "\t\tfor line2 in open(SEARCH_CLUES_PATH + filename, 'r').readlines():\n",
    "\t\t\tsentences.append(process_txt(line2))\n",
    "\t\t\toutput.append(file_id)\n",
    "\tvectorizer = CountVectorizer(min_df=1, encoding='cp1252')\n",
    "\tinput = vectorizer.fit_transform(sentences).toarray()\n",
    "\toutput = np.array(output)\n",
    "\treturn input, output\n",
    "\n",
    "def split_data(input, output):\n",
    "\tx_train, x_test, y_train, y_test = train_test_split(input, output, test_size = 0.2)\n",
    "\treturn x_train, x_test, y_train, y_test\n",
    "\n",
    "x, y = process_input()\n",
    "x_train, x_test, y_train, y_test = split_data(x, y)"
   ]
  },
  {
   "cell_type": "markdown",
   "metadata": {},
   "source": [
    "### Timer"
   ]
  },
  {
   "cell_type": "code",
   "execution_count": 15,
   "metadata": {
    "collapsed": true
   },
   "outputs": [],
   "source": [
    "import time\n",
    "from functools import wraps\n",
    " \n",
    "def fn_timer(function):\n",
    "\t@wraps(function)\n",
    "\tdef function_timer(*args, **kwargs):\n",
    "\t\tt0 = time.time()\n",
    "\t\tresult = function(*args, **kwargs)\n",
    "\t\tt1 = time.time()\n",
    "\t\tprint (\"Total time running %s: %s seconds\" %\n",
    "\t\t\t   (function.func_name, str(t1-t0))\n",
    "\t\t\t   )\n",
    "\t\treturn result\n",
    "\treturn function_timer"
   ]
  },
  {
   "cell_type": "markdown",
   "metadata": {},
   "source": [
    "#### Random Forest Classifier"
   ]
  },
  {
   "cell_type": "code",
   "execution_count": 16,
   "metadata": {
    "collapsed": false
   },
   "outputs": [
    {
     "name": "stdout",
     "output_type": "stream",
     "text": [
      "random forest accuracy:  0.869951534733\n"
     ]
    }
   ],
   "source": [
    "from sklearn.ensemble import RandomForestClassifier\n",
    "from sklearn.metrics import accuracy_score\n",
    "clf_rf = RandomForestClassifier()\n",
    "clf_rf.fit(x_train, y_train)\n",
    "y_pred_rf = clf_rf.predict(x_test)\n",
    "acc_rf = accuracy_score(y_test, y_pred_rf)\n",
    "print \"random forest accuracy: \", acc_rf"
   ]
  },
  {
   "cell_type": "markdown",
   "metadata": {},
   "source": [
    "#### Stochastic Gradient Descent"
   ]
  },
  {
   "cell_type": "code",
   "execution_count": 17,
   "metadata": {
    "collapsed": false
   },
   "outputs": [
    {
     "name": "stdout",
     "output_type": "stream",
     "text": [
      "stochastic gradient descent accuracy:  0.903877221325\n"
     ]
    }
   ],
   "source": [
    "from sklearn.linear_model import SGDClassifier\n",
    "clf_sgd = SGDClassifier()\n",
    "clf_sgd.fit(x_train, y_train)\n",
    "y_pred_sgd = clf_sgd.predict(x_test)\n",
    "acc_sgd = accuracy_score(y_test, y_pred_sgd)\n",
    "print \"stochastic gradient descent accuracy: \",acc_sgd"
   ]
  },
  {
   "cell_type": "markdown",
   "metadata": {},
   "source": [
    "#### Support Vector Machine"
   ]
  },
  {
   "cell_type": "code",
   "execution_count": 18,
   "metadata": {
    "collapsed": false
   },
   "outputs": [
    {
     "name": "stdout",
     "output_type": "stream",
     "text": [
      "Linear SVM accuracy:  0.903877221325\n"
     ]
    }
   ],
   "source": [
    "from sklearn.svm import LinearSVC\n",
    "clf_svm = LinearSVC()\n",
    "clf_svm.fit(x_train, y_train)\n",
    "y_pred_svm = clf_svm.predict(x_test)\n",
    "acc_svm = accuracy_score(y_test, y_pred_svm)\n",
    "print \"Linear SVM accuracy: \",acc_svm"
   ]
  },
  {
   "cell_type": "markdown",
   "metadata": {},
   "source": [
    "#### Nearest Neighbors"
   ]
  },
  {
   "cell_type": "code",
   "execution_count": 19,
   "metadata": {
    "collapsed": false
   },
   "outputs": [
    {
     "name": "stdout",
     "output_type": "stream",
     "text": [
      "nearest neighbors accuracy:  0.79563812601\n"
     ]
    }
   ],
   "source": [
    "from sklearn.neighbors import KNeighborsClassifier\n",
    "clf_knn = KNeighborsClassifier()\n",
    "clf_knn.fit(x_train, y_train)\n",
    "y_pred_knn = clf_knn.predict(x_test)\n",
    "acc_knn = accuracy_score(y_test, y_pred_knn)\n",
    "print \"nearest neighbors accuracy: \",acc_knn"
   ]
  },
  {
   "cell_type": "markdown",
   "metadata": {},
   "source": [
    "#### Neural Network"
   ]
  },
  {
   "cell_type": "code",
   "execution_count": 20,
   "metadata": {
    "collapsed": false
   },
   "outputs": [
    {
     "name": "stdout",
     "output_type": "stream",
     "text": [
      "# Neural Network with 265010 learnable parameters\n",
      "\n",
      "## Layer information\n",
      "\n",
      "  #  name       size\n",
      "---  -------  ------\n",
      "  0  input      2538\n",
      "  1  hidden1     100\n",
      "  2  hidden2     100\n",
      "  3  output       10\n",
      "\n",
      "  epoch    train loss    valid loss    train/val    valid acc  dur\n",
      "-------  ------------  ------------  -----------  -----------  -----\n",
      "      1       \u001b[36m2.19567\u001b[0m       \u001b[32m2.05797\u001b[0m      1.06691      0.29450  0.35s\n",
      "      2       \u001b[36m1.98207\u001b[0m       \u001b[32m1.93797\u001b[0m      1.02276      0.29450  0.37s\n",
      "      3       \u001b[36m1.91680\u001b[0m       \u001b[32m1.90710\u001b[0m      1.00509      0.29578  0.32s\n",
      "      4       \u001b[36m1.89085\u001b[0m       \u001b[32m1.88642\u001b[0m      1.00235      0.30780  0.34s\n",
      "      5       \u001b[36m1.86547\u001b[0m       \u001b[32m1.86059\u001b[0m      1.00262      0.35991  0.31s\n",
      "      6       \u001b[36m1.83209\u001b[0m       \u001b[32m1.82454\u001b[0m      1.00414      0.41542  0.31s\n",
      "      7       \u001b[36m1.78531\u001b[0m       \u001b[32m1.77345\u001b[0m      1.00668      0.45657  0.31s\n",
      "      8       \u001b[36m1.71973\u001b[0m       \u001b[32m1.70335\u001b[0m      1.00962      0.48481  0.33s\n",
      "      9       \u001b[36m1.63443\u001b[0m       \u001b[32m1.61729\u001b[0m      1.01060      0.52117  0.31s\n",
      "     10       \u001b[36m1.53543\u001b[0m       \u001b[32m1.52330\u001b[0m      1.00796      0.55594  0.36s\n",
      "     11       \u001b[36m1.43268\u001b[0m       \u001b[32m1.43110\u001b[0m      1.00110      0.57382  0.34s\n",
      "     12       \u001b[36m1.33457\u001b[0m       \u001b[32m1.34601\u001b[0m      0.99150      0.59688  0.34s\n",
      "     13       \u001b[36m1.24449\u001b[0m       \u001b[32m1.26865\u001b[0m      0.98096      0.61934  0.33s\n",
      "     14       \u001b[36m1.16246\u001b[0m       \u001b[32m1.19817\u001b[0m      0.97020      0.63947  0.37s\n",
      "     15       \u001b[36m1.08765\u001b[0m       \u001b[32m1.13409\u001b[0m      0.95905      0.66771  0.37s\n",
      "     16       \u001b[36m1.01960\u001b[0m       \u001b[32m1.07637\u001b[0m      0.94726      0.67259  0.40s\n",
      "     17       \u001b[36m0.95773\u001b[0m       \u001b[32m1.02429\u001b[0m      0.93501      0.69047  0.40s\n",
      "     18       \u001b[36m0.90141\u001b[0m       \u001b[32m0.97747\u001b[0m      0.92219      0.69731  0.39s\n",
      "     19       \u001b[36m0.85003\u001b[0m       \u001b[32m0.93521\u001b[0m      0.90892      0.70609  0.39s\n",
      "     20       \u001b[36m0.80270\u001b[0m       \u001b[32m0.89688\u001b[0m      0.89499      0.71743  0.39s\n",
      "     21       \u001b[36m0.75906\u001b[0m       \u001b[32m0.86191\u001b[0m      0.88067      0.73111  0.39s\n",
      "     22       \u001b[36m0.71850\u001b[0m       \u001b[32m0.82981\u001b[0m      0.86586      0.74312  0.38s\n",
      "     23       \u001b[36m0.68058\u001b[0m       \u001b[32m0.80009\u001b[0m      0.85064      0.74898  0.38s\n",
      "     24       \u001b[36m0.64491\u001b[0m       \u001b[32m0.77228\u001b[0m      0.83507      0.76266  0.38s\n",
      "     25       \u001b[36m0.61119\u001b[0m       \u001b[32m0.74629\u001b[0m      0.81897      0.77633  0.39s\n",
      "     26       \u001b[36m0.57925\u001b[0m       \u001b[32m0.72193\u001b[0m      0.80236      0.78316  0.39s\n",
      "     27       \u001b[36m0.54898\u001b[0m       \u001b[32m0.69906\u001b[0m      0.78530      0.78707  0.38s\n",
      "     28       \u001b[36m0.52026\u001b[0m       \u001b[32m0.67773\u001b[0m      0.76766      0.79518  0.39s\n",
      "     29       \u001b[36m0.49302\u001b[0m       \u001b[32m0.65780\u001b[0m      0.74950      0.80104  0.38s\n",
      "     30       \u001b[36m0.46718\u001b[0m       \u001b[32m0.63924\u001b[0m      0.73084      0.81013  0.39s\n",
      "     31       \u001b[36m0.44266\u001b[0m       \u001b[32m0.62193\u001b[0m      0.71176      0.81726  0.38s\n",
      "     32       \u001b[36m0.41941\u001b[0m       \u001b[32m0.60573\u001b[0m      0.69240      0.82440  0.39s\n",
      "     33       \u001b[36m0.39735\u001b[0m       \u001b[32m0.59064\u001b[0m      0.67274      0.82733  0.39s\n",
      "     34       \u001b[36m0.37642\u001b[0m       \u001b[32m0.57662\u001b[0m      0.65280      0.82928  0.38s\n",
      "     35       \u001b[36m0.35656\u001b[0m       \u001b[32m0.56352\u001b[0m      0.63273      0.83416  0.39s\n",
      "     36       \u001b[36m0.33774\u001b[0m       \u001b[32m0.55133\u001b[0m      0.61260      0.84130  0.38s\n",
      "     37       \u001b[36m0.31992\u001b[0m       \u001b[32m0.53987\u001b[0m      0.59259      0.84393  0.39s\n",
      "     38       \u001b[36m0.30305\u001b[0m       \u001b[32m0.52920\u001b[0m      0.57265      0.84911  0.39s\n",
      "     39       \u001b[36m0.28709\u001b[0m       \u001b[32m0.51935\u001b[0m      0.55280      0.85136  0.38s\n",
      "     40       \u001b[36m0.27200\u001b[0m       \u001b[32m0.51022\u001b[0m      0.53310      0.85429  0.40s\n",
      "     41       \u001b[36m0.25772\u001b[0m       \u001b[32m0.50169\u001b[0m      0.51371      0.85625  0.39s\n",
      "     42       \u001b[36m0.24424\u001b[0m       \u001b[32m0.49380\u001b[0m      0.49461      0.85820  0.39s\n",
      "     43       \u001b[36m0.23149\u001b[0m       \u001b[32m0.48649\u001b[0m      0.47583      0.85820  0.38s\n",
      "     44       \u001b[36m0.21945\u001b[0m       \u001b[32m0.47973\u001b[0m      0.45745      0.86113  0.42s\n",
      "     45       \u001b[36m0.20810\u001b[0m       \u001b[32m0.47352\u001b[0m      0.43947      0.86338  0.40s\n",
      "     46       \u001b[36m0.19740\u001b[0m       \u001b[32m0.46783\u001b[0m      0.42195      0.86729  0.41s\n",
      "     47       \u001b[36m0.18731\u001b[0m       \u001b[32m0.46269\u001b[0m      0.40482      0.86826  0.44s\n",
      "     48       \u001b[36m0.17781\u001b[0m       \u001b[32m0.45798\u001b[0m      0.38824      0.87345  0.38s\n",
      "     49       \u001b[36m0.16886\u001b[0m       \u001b[32m0.45373\u001b[0m      0.37216      0.87442  0.40s\n",
      "     50       \u001b[36m0.16044\u001b[0m       \u001b[32m0.44990\u001b[0m      0.35662      0.87442  0.40s\n",
      "Total time running train: 19.7079999447 seconds\n",
      "neural network accuracy:  0.861066235864\n"
     ]
    }
   ],
   "source": [
    "@fn_timer\n",
    "def train(x_train, y_train):\n",
    "\tclf_nn = NeuralNet(\n",
    "\t    layers=[  # three layers: one hidden layer\n",
    "\t        ('input', layers.InputLayer),\n",
    "\t        ('hidden1', layers.DenseLayer),\n",
    "\t        ('hidden2', layers.DenseLayer),\n",
    "\t        ('output', layers.DenseLayer),\n",
    "\t        ],\n",
    "\t    # layer parameters:\n",
    "\t    input_shape=(None, 2538),  # 784 input pixels per batch\n",
    "\t    hidden1_num_units=100,  # number of units in hidden layer\n",
    "\t    hidden2_num_units=100,\n",
    "\t    output_nonlinearity=nonlinearities.softmax,  # output layer uses identity function\n",
    "\t    output_num_units=10,  # 10 target values\n",
    "\n",
    "\t    # optimization method:\n",
    "\t    update=nesterov_momentum,\n",
    "\t    update_learning_rate=0.01,\n",
    "\t    update_momentum=0.9,\n",
    "\t    \n",
    "\t    max_epochs=50,  # we want to train this many epochs\n",
    "\t    verbose=1,\n",
    "\t    )\n",
    "\tclf_nn.fit(x_train, y_train)\n",
    "\treturn clf_nn\n",
    "\n",
    "def test(clf_nn, x_test):\n",
    "\treturn clf_nn.predict(x_test)\n",
    "\n",
    "x, y = process_input()\n",
    "x_train, x_test, y_train, y_test = split_data(x, y)\n",
    "clf_nn = train(x_train, y_train)\n",
    "y_pred_nn = test(clf_nn, x_test)\n",
    "acc_nn = accuracy_score(y_test, y_pred_nn)\n",
    "print \"neural network accuracy: \", acc_nn"
   ]
  }
 ],
 "metadata": {
  "kernelspec": {
   "display_name": "Python 2",
   "language": "python",
   "name": "python2"
  },
  "language_info": {
   "codemirror_mode": {
    "name": "ipython",
    "version": 2
   },
   "file_extension": ".py",
   "mimetype": "text/x-python",
   "name": "python",
   "nbconvert_exporter": "python",
   "pygments_lexer": "ipython2",
   "version": "2.7.11"
  }
 },
 "nbformat": 4,
 "nbformat_minor": 0
}
