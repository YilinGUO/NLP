{
 "cells": [
  {
   "cell_type": "markdown",
   "metadata": {},
   "source": [
    "load the digit dataset from sklearn, split the dataset into 80% training and 20% testing"
   ]
  },
  {
   "cell_type": "code",
   "execution_count": 1,
   "metadata": {
    "collapsed": false
   },
   "outputs": [
    {
     "name": "stderr",
     "output_type": "stream",
     "text": [
      "C:\\Users\\Yilin\\Anaconda2\\lib\\site-packages\\theano\\tensor\\signal\\downsample.py:5: UserWarning: downsample module has been moved to the pool module.\n",
      "  warnings.warn(\"downsample module has been moved to the pool module.\")\n"
     ]
    }
   ],
   "source": [
    "from nolearn.lasagne import NeuralNet\n",
    "from lasagne import layers\n",
    "from lasagne import nonlinearities\n",
    "from lasagne.updates import nesterov_momentum\n",
    "from sklearn.cross_validation import train_test_split\n",
    "from sklearn.metrics import accuracy_score\n",
    "from sklearn.feature_extraction.text import CountVectorizer\n",
    "import numpy as np\n",
    "\n",
    "SEARCH_CLUES_PATH = \"./cw/\"\n",
    "\n",
    "def process_filename(line):\n",
    "\tif line.strip() != \"\":\n",
    "\t\tline = line.rstrip('\\n')\n",
    "\t\tfile_id, filename = line.split('\\t')\n",
    "\t\tfile_id = int(file_id)\n",
    "\t\treturn file_id, filename\n",
    "\n",
    "def process_txt(line):\n",
    "\tif line.strip() != \"\":\n",
    "\t\tline = line.rstrip('\\n')\n",
    "\t\tclues, url = line.split('\\t')\n",
    "\t\t# clues = clues.split(' ')\n",
    "\t\treturn clues\n",
    "\n",
    "def process_input():\n",
    "\tsentences = []\n",
    "\toutput = []\n",
    "\tfor line in open(SEARCH_CLUES_PATH + 'list', 'r').readlines():\n",
    "\t\tfile_id, filename = process_filename(line)\n",
    "\t\tfor line2 in open(SEARCH_CLUES_PATH + filename, 'r').readlines():\n",
    "\t\t\tsentences.append(process_txt(line2))\n",
    "\t\t\toutput.append(file_id)\n",
    "\tvectorizer = CountVectorizer(min_df=1, encoding='cp1252')\n",
    "\tinput = vectorizer.fit_transform(sentences).toarray()\n",
    "\toutput = np.array(output)\n",
    "\treturn input, output\n",
    "\n",
    "def split_data(input, output):\n",
    "\tx_train, x_test, y_train, y_test = train_test_split(input, output, test_size = 0.5)\n",
    "\treturn x_train, x_test, y_train, y_test\n",
    "\n",
    "x, y = process_input()\n",
    "x_train, x_test, y_train, y_test = split_data(x, y)"
   ]
  },
  {
   "cell_type": "markdown",
   "metadata": {},
   "source": [
    "#### Random Forest Classifier"
   ]
  },
  {
   "cell_type": "code",
   "execution_count": 2,
   "metadata": {
    "collapsed": false
   },
   "outputs": [
    {
     "name": "stdout",
     "output_type": "stream",
     "text": [
      "random forest accuracy:  0.809954751131\n"
     ]
    }
   ],
   "source": [
    "from sklearn.ensemble import RandomForestClassifier\n",
    "from sklearn.metrics import accuracy_score\n",
    "clf_rf = RandomForestClassifier()\n",
    "clf_rf.fit(x_train, y_train)\n",
    "y_pred_rf = clf_rf.predict(x_test)\n",
    "acc_rf = accuracy_score(y_test, y_pred_rf)\n",
    "print \"random forest accuracy: \", acc_rf"
   ]
  },
  {
   "cell_type": "markdown",
   "metadata": {},
   "source": [
    "#### Stochastic Gradient Descent"
   ]
  },
  {
   "cell_type": "code",
   "execution_count": 3,
   "metadata": {
    "collapsed": false
   },
   "outputs": [
    {
     "name": "stdout",
     "output_type": "stream",
     "text": [
      "stochastic gradient descent accuracy:  0.856819650937\n"
     ]
    }
   ],
   "source": [
    "from sklearn.linear_model import SGDClassifier\n",
    "clf_sgd = SGDClassifier()\n",
    "clf_sgd.fit(x_train, y_train)\n",
    "y_pred_sgd = clf_sgd.predict(x_test)\n",
    "acc_sgd = accuracy_score(y_test, y_pred_sgd)\n",
    "print \"stochastic gradient descent accuracy: \",acc_sgd"
   ]
  },
  {
   "cell_type": "markdown",
   "metadata": {},
   "source": [
    "#### Support Vector Machine"
   ]
  },
  {
   "cell_type": "code",
   "execution_count": null,
   "metadata": {
    "collapsed": false
   },
   "outputs": [
    {
     "name": "stdout",
     "output_type": "stream",
     "text": [
      "Linear SVM accuracy:  0.87556561086\n"
     ]
    }
   ],
   "source": [
    "from sklearn.svm import LinearSVC\n",
    "clf_svm = LinearSVC()\n",
    "clf_svm.fit(x_train, y_train)\n",
    "y_pred_svm = clf_svm.predict(x_test)\n",
    "acc_svm = accuracy_score(y_test, y_pred_svm)\n",
    "print \"Linear SVM accuracy: \",acc_svm"
   ]
  },
  {
   "cell_type": "markdown",
   "metadata": {},
   "source": [
    "#### Nearest Neighbors"
   ]
  },
  {
   "cell_type": "code",
   "execution_count": null,
   "metadata": {
    "collapsed": false
   },
   "outputs": [],
   "source": [
    "from sklearn.neighbors import KNeighborsClassifier\n",
    "clf_knn = KNeighborsClassifier()\n",
    "clf_knn.fit(x_train, y_train)\n",
    "y_pred_knn = clf_knn.predict(x_test)\n",
    "acc_knn = accuracy_score(y_test, y_pred_knn)\n",
    "print \"nearest neighbors accuracy: \",acc_knn"
   ]
  },
  {
   "cell_type": "markdown",
   "metadata": {},
   "source": [
    "#### Neural Network"
   ]
  },
  {
   "cell_type": "code",
   "execution_count": null,
   "metadata": {
    "collapsed": false
   },
   "outputs": [],
   "source": [
    "def train(x_train, y_train):\n",
    "\tclf_nn = NeuralNet(\n",
    "\t    layers=[  # three layers: one hidden layer\n",
    "\t        ('input', layers.InputLayer),\n",
    "\t        ('hidden', layers.DenseLayer),\n",
    "\t        ('output', layers.DenseLayer),\n",
    "\t        ],\n",
    "\t    # layer parameters:\n",
    "\t    input_shape=(None, 2538),  # 784 input pixels per batch\n",
    "\t    hidden_num_units=100,  # number of units in hidden layer\n",
    "\t    output_nonlinearity=nonlinearities.softmax,  # output layer uses identity function\n",
    "\t    output_num_units=10,  # 10 target values\n",
    "\n",
    "\t    # optimization method:\n",
    "\t    update=nesterov_momentum,\n",
    "\t    update_learning_rate=0.01,\n",
    "\t    update_momentum=0.9,\n",
    "\t    \n",
    "\t    max_epochs=10,  # we want to train this many epochs\n",
    "\t    verbose=1,\n",
    "\t    )\n",
    "\tclf_nn.fit(x_train, y_train)\n",
    "\treturn clf_nn\n",
    "\n",
    "def test(clf_nn, x_test):\n",
    "\treturn clf_nn.predict(x_test)\n",
    "\n",
    "\n",
    "clf_nn = train(x_train, y_train)\n",
    "y_pred_nn = test(clf_nn, x_test)\n",
    "acc_nn = accuracy_score(y_test, y_pred_nn)\n",
    "print \"neural network accuracy: \", acc_nn"
   ]
  }
 ],
 "metadata": {
  "kernelspec": {
   "display_name": "Python 2",
   "language": "python",
   "name": "python2"
  },
  "language_info": {
   "codemirror_mode": {
    "name": "ipython",
    "version": 2
   },
   "file_extension": ".py",
   "mimetype": "text/x-python",
   "name": "python",
   "nbconvert_exporter": "python",
   "pygments_lexer": "ipython2",
   "version": "2.7.11"
  }
 },
 "nbformat": 4,
 "nbformat_minor": 0
}
